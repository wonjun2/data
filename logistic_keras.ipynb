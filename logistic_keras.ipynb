{
  "nbformat": 4,
  "nbformat_minor": 0,
  "metadata": {
    "colab": {
      "name": "logistic_keras.ipynb의 사본",
      "provenance": [],
      "collapsed_sections": []
    },
    "kernelspec": {
      "name": "python3",
      "display_name": "Python 3"
    },
    "language_info": {
      "name": "python"
    }
  },
  "cells": [
    {
      "cell_type": "code",
      "metadata": {
        "colab": {
          "base_uri": "https://localhost:8080/"
        },
        "id": "LImu2xcWpEBg",
        "outputId": "b8e2c888-482f-497e-cde6-b589cbd42f1c"
      },
      "source": [
        "import numpy as np\n",
        "from tensorflow import keras\n",
        "print (keras.__version__)\n",
        "from keras.datasets import mnist\n",
        "from keras.models import Sequential\n",
        "from keras.layers import Dense"
      ],
      "execution_count": null,
      "outputs": [
        {
          "output_type": "stream",
          "text": [
            "2.5.0\n"
          ],
          "name": "stdout"
        }
      ]
    },
    {
      "cell_type": "code",
      "metadata": {
        "id": "aDE_cS8IpYd8"
      },
      "source": [
        "(x_train, y_train), (x_test, y_test) = mnist.load_data()"
      ],
      "execution_count": null,
      "outputs": []
    },
    {
      "cell_type": "code",
      "metadata": {
        "id": "4Ipu0tjrpMGB"
      },
      "source": [
        "x_train_new, y_train_new = x_train[(y_train==0) | (y_train==1)], y_train[(y_train==0) | (y_train==1)]"
      ],
      "execution_count": null,
      "outputs": []
    },
    {
      "cell_type": "code",
      "metadata": {
        "id": "1K8ZEZ1ApOec"
      },
      "source": [
        "x_train_final = x_train_new.reshape((-1, 784))"
      ],
      "execution_count": null,
      "outputs": []
    },
    {
      "cell_type": "code",
      "metadata": {
        "id": "-Y6DelVhpeba"
      },
      "source": [
        "x_test_new, y_test_new = x_test[(y_test==0) | (y_test==1)], y_test[(y_test==0) | (y_test==1)]"
      ],
      "execution_count": null,
      "outputs": []
    },
    {
      "cell_type": "code",
      "metadata": {
        "id": "Nalwu-_wpiTY"
      },
      "source": [
        "x_test_final = x_test_new.reshape((-1, 784))"
      ],
      "execution_count": null,
      "outputs": []
    },
    {
      "cell_type": "code",
      "metadata": {
        "id": "IfmtZLDlpkFS"
      },
      "source": [
        "x_train_final = x_train_final / 255\n",
        "x_test_final = x_test_final / 255"
      ],
      "execution_count": null,
      "outputs": []
    },
    {
      "cell_type": "code",
      "metadata": {
        "id": "6z71E4qLpm1y"
      },
      "source": [
        "model = Sequential()\n",
        "model.add(Dense(1, input_shape=(784,), activation='sigmoid'))\n",
        "model.compile(optimizer='sgd', loss='binary_crossentropy', metrics=['binary_accuracy'])"
      ],
      "execution_count": null,
      "outputs": []
    },
    {
      "cell_type": "code",
      "metadata": {
        "colab": {
          "base_uri": "https://localhost:8080/"
        },
        "id": "Pv8_oUKHrE0s",
        "outputId": "94c01513-f1c7-4f01-85fa-76737b0529b5"
      },
      "source": [
        "model.fit(\n",
        "  x=x_train_final,\n",
        "  y=y_train_new,\n",
        "  shuffle=True,\n",
        "  epochs=5,\n",
        "  batch_size=16\n",
        ")"
      ],
      "execution_count": null,
      "outputs": [
        {
          "output_type": "stream",
          "text": [
            "Epoch 1/5\n",
            "792/792 [==============================] - 2s 1ms/step - loss: 0.1589 - binary_accuracy: 0.9728\n",
            "Epoch 2/5\n",
            "792/792 [==============================] - 1s 1ms/step - loss: 0.0233 - binary_accuracy: 0.9969\n",
            "Epoch 3/5\n",
            "792/792 [==============================] - 1s 1ms/step - loss: 0.0173 - binary_accuracy: 0.9968\n",
            "Epoch 4/5\n",
            "792/792 [==============================] - 1s 1ms/step - loss: 0.0130 - binary_accuracy: 0.9977\n",
            "Epoch 5/5\n",
            "792/792 [==============================] - 1s 1ms/step - loss: 0.0108 - binary_accuracy: 0.9978\n"
          ],
          "name": "stdout"
        },
        {
          "output_type": "execute_result",
          "data": {
            "text/plain": [
              "<keras.callbacks.History at 0x7f935adb8f50>"
            ]
          },
          "metadata": {
            "tags": []
          },
          "execution_count": 156
        }
      ]
    },
    {
      "cell_type": "code",
      "metadata": {
        "colab": {
          "base_uri": "https://localhost:8080/"
        },
        "id": "RM-kOxrCrMHW",
        "outputId": "55dc5221-3275-4851-c81f-a0b95acb2c8a"
      },
      "source": [
        "eval = model.evaluate(x=x_test_final, y=y_test_new)"
      ],
      "execution_count": null,
      "outputs": [
        {
          "output_type": "stream",
          "text": [
            "67/67 [==============================] - 0s 1ms/step - loss: 0.0066 - binary_accuracy: 0.9991\n"
          ],
          "name": "stdout"
        }
      ]
    },
    {
      "cell_type": "code",
      "metadata": {
        "id": "nVqIEAYOBVQn"
      },
      "source": [
        "model.save(r'./logisticRegressionKeras.hdf5')"
      ],
      "execution_count": null,
      "outputs": []
    },
    {
      "cell_type": "code",
      "metadata": {
        "id": "V4JLRffRBh8V"
      },
      "source": [
        "import numpy as np\n",
        "from tensorflow import keras\n",
        "from PIL import Image\n",
        "from matplotlib.pyplot import imshow\n",
        "%matplotlib inline"
      ],
      "execution_count": null,
      "outputs": []
    },
    {
      "cell_type": "code",
      "metadata": {
        "id": "URKyPZmNBjXZ"
      },
      "source": [
        "model = keras.models.load_model(r'./logisticRegressionKeras.hdf5')"
      ],
      "execution_count": null,
      "outputs": []
    },
    {
      "cell_type": "code",
      "metadata": {
        "colab": {
          "base_uri": "https://localhost:8080/"
        },
        "id": "Pqunq5A7BluA",
        "outputId": "31576f2d-6018-45b0-c6a4-533b640a9413"
      },
      "source": [
        "from keras.datasets import mnist\n",
        "\n",
        "(x_train, y_train), (x_test, y_test) = mnist.load_data()\n",
        "x_test_new, y_test_new = x_test[(y_test==0) | (y_test==1)], y_test[(y_test==0) | (y_test==1)]\n",
        "\n",
        "x_test_final = x_test_new.reshape((-1, 784)) / 255\n",
        "\n",
        "eval = model.evaluate(x=x_test_final, y=y_test_new)"
      ],
      "execution_count": null,
      "outputs": [
        {
          "output_type": "stream",
          "text": [
            "67/67 [==============================] - 0s 971us/step - loss: 0.0066 - binary_accuracy: 0.9991\n"
          ],
          "name": "stdout"
        }
      ]
    },
    {
      "cell_type": "code",
      "metadata": {
        "colab": {
          "base_uri": "https://localhost:8080/"
        },
        "id": "GEBkndQNBn8B",
        "outputId": "f5b0f7d8-50bf-45ce-8ac2-39a16ffb9ae1"
      },
      "source": [
        "eval"
      ],
      "execution_count": null,
      "outputs": [
        {
          "output_type": "execute_result",
          "data": {
            "text/plain": [
              "[0.006557471584528685, 0.9990543723106384]"
            ]
          },
          "metadata": {
            "tags": []
          },
          "execution_count": 162
        }
      ]
    },
    {
      "cell_type": "code",
      "metadata": {
        "id": "VtBZfP4FBqFM"
      },
      "source": [
        "def convert_image(file):\n",
        "  image = np.array(Image.open(file).convert('L'))\n",
        "  return np.abs(((image / 255) - 1)*(-1))"
      ],
      "execution_count": null,
      "outputs": []
    },
    {
      "cell_type": "code",
      "metadata": {
        "colab": {
          "base_uri": "https://localhost:8080/"
        },
        "id": "EgAbf_JpCUJX",
        "outputId": "9b9165dc-4c7a-4e24-de9f-df05fead32ba"
      },
      "source": [
        "from google.colab import drive\n",
        "drive.mount('/content/drive/')"
      ],
      "execution_count": null,
      "outputs": [
        {
          "output_type": "stream",
          "text": [
            "Drive already mounted at /content/drive/; to attempt to forcibly remount, call drive.mount(\"/content/drive/\", force_remount=True).\n"
          ],
          "name": "stdout"
        }
      ]
    },
    {
      "cell_type": "code",
      "metadata": {
        "id": "eP6MMveUJ5cX"
      },
      "source": [
        "def convert_image(file):\n",
        "  image = np.array(Image.open(file).convert('L'))\n",
        "  return np.abs(((image / 255) - 1)*(-1))"
      ],
      "execution_count": null,
      "outputs": []
    },
    {
      "cell_type": "code",
      "metadata": {
        "colab": {
          "base_uri": "https://localhost:8080/",
          "height": 282
        },
        "id": "Fw2h4hl6bTrg",
        "outputId": "c1e7d73e-8800-4587-e732-67128e92cb37"
      },
      "source": [
        "im = convert_image(r'train_14.bmp')\n",
        "imshow(im)"
      ],
      "execution_count": null,
      "outputs": [
        {
          "output_type": "execute_result",
          "data": {
            "text/plain": [
              "<matplotlib.image.AxesImage at 0x7f9359447cd0>"
            ]
          },
          "metadata": {
            "tags": []
          },
          "execution_count": 166
        },
        {
          "output_type": "display_data",
          "data": {
            "image/png": "[encoded data removed]",
            "text/plain": [
              "<Figure size 432x288 with 1 Axes>"
            ]
          },
          "metadata": {
            "tags": [],
            "needs_background": "light"
          }
        }
      ]
    },
    {
      "cell_type": "code",
      "metadata": {
        "colab": {
          "base_uri": "https://localhost:8080/"
        },
        "id": "5vFugq7jbg-Z",
        "outputId": "29c682f6-9d73-4f67-a41a-6dec1a0c1c74"
      },
      "source": [
        "predict_input = im.reshape((-1,784))\n",
        "prediction = model.predict(predict_input)\n",
        "print(prediction.shape)"
      ],
      "execution_count": null,
      "outputs": [
        {
          "output_type": "stream",
          "text": [
            "(1, 1)\n"
          ],
          "name": "stdout"
        }
      ]
    }
  ]
}